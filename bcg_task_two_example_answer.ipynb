{
  "nbformat": 4,
  "nbformat_minor": 0,
  "metadata": {
    "colab": {
      "provenance": []
    },
    "kernelspec": {
      "name": "python3",
      "display_name": "Python 3"
    },
    "language_info": {
      "name": "python"
    }
  },
  "cells": [
    {
      "cell_type": "code",
      "execution_count": 2,
      "metadata": {
        "id": "eN8OGL7FUVMB"
      },
      "outputs": [],
      "source": [
        "import pandas as pd"
      ]
    },
    {
      "cell_type": "code",
      "source": [
        "responses = {\n",
        "    \"What is the total revenue?\": \"The total revenue is $1,000,000.\",\n",
        "    \"How has net income changed over the last year?\": \"The net income has increased by $200,000 over the last year.\",\n",
        "    \"What is the total revenue for Company A?\": \"The total revenue for Company A for the fiscal year 2022 is $X million.\",\n",
        "    \"How has net income changed for Company B over the last year?\": \"Company B's net income has increased/decreased by $Y million, representing a Z% change compared to the previous fiscal year.\",\n",
        "    \"What is the earnings per share (EPS) for Company C?\": \"The earnings per share (EPS) for Company C for the fiscal year 2022 is $A.\",\n",
        "    \"What are the total assets of Company A?\": \"The total assets of Company A as of the end of fiscal year 2022 are $B million.\",\n",
        "    \"What is the total debt of Company B?\": \"Company B's total liabilities amount to $C million as reported in the latest 10-K filing.\",\n",
        "    \"What is the year-over-year growth in revenue for Company C?\": \"Company C experienced a year-over-year revenue growth of D%, increasing from $E million in 2021 to $F million in 2022.\",\n",
        "\n",
        "    \"What is the total revenue for Microsoft Corporation?\": \"The total revenue for Microsoft Corporation for the fiscal year 2022 is $198 billion, up from $168 billion in 2021.\",\n",
        "    \"How has net income changed for Microsoft Corporation over the last year?\": \"Microsoft Corporation's net income has increased by $11 billion, from $61 billion in 2021 to $72 billion in 2022.\",\n",
        "    \"What is the earnings per share (EPS) for Microsoft Corporation?\": \"The earnings per share (EPS) for Microsoft Corporation for the fiscal year 2022 is $9.65, up from $8.05 in 2021.\",\n",
        "    \"What are the total assets of Microsoft Corporation?\": \"The total assets of Microsoft Corporation as of the end of fiscal year 2022 are $335 billion.\",\n",
        "    \"What is the total debt of Microsoft Corporation?\": \"Microsoft Corporation's total liabilities amount to $183 billion as reported in the latest 10-K filing.\",\n",
        "    \"What is the year-over-year growth in revenue for Microsoft Corporation?\": \"Microsoft Corporation experienced a year-over-year revenue growth of 18%.\",\n",
        "\n",
        "    \"What is the total revenue for Tesla, Inc.?\": \"The total revenue for Tesla, Inc. for the fiscal year 2022 is $81 billion, up from $53 billion in 2021.\",\n",
        "    \"How has net income changed for Tesla, Inc. over the last year?\": \"Tesla, Inc.'s net income has increased by $6.5 billion, from $5.5 billion in 2021 to $12 billion in 2022.\",\n",
        "    \"What is the earnings per share (EPS) for Tesla, Inc.?\": \"The earnings per share (EPS) for Tesla, Inc. for the fiscal year 2022 is $3.62, up from $1.99 in 2021.\",\n",
        "    \"What are the total assets of Tesla, Inc.?\": \"The total assets of Tesla, Inc. as of the end of fiscal year 2022 are $62 billion.\",\n",
        "    \"What is the total debt of Tesla, Inc.?\": \"Tesla, Inc.'s total liabilities amount to $28 billion as reported in the latest 10-K filing.\",\n",
        "    \"What is the year-over-year growth in revenue for Tesla, Inc.?\": \"Tesla, Inc. experienced a year-over-year revenue growth of 53%.\",\n",
        "\n",
        "    \"What is the total revenue for Apple Inc.?\": \"The total revenue for Apple Inc. for the fiscal year 2022 is $394 billion, up from $365 billion in 2021\"\n",
        "}"
      ],
      "metadata": {
        "id": "eFJ1eCFbUg8N"
      },
      "execution_count": 3,
      "outputs": []
    },
    {
      "cell_type": "code",
      "source": [
        "def simple_chatbot(user_query):\n",
        "    if user_query in responses:\n",
        "        return responses[user_query]\n",
        "    else:\n",
        "        return \"Sorry, I can only provide information on predefined queries.\""
      ],
      "metadata": {
        "id": "ObN2WEr-Uotm"
      },
      "execution_count": 4,
      "outputs": []
    },
    {
      "cell_type": "code",
      "source": [
        "while True:\n",
        "    user_query = input(\"Ask a financial question (or type 'exit' to quit): \")\n",
        "    if user_query.lower() == 'exit':\n",
        "        break\n",
        "    response = simple_chatbot(user_query)\n",
        "    print(response)"
      ],
      "metadata": {
        "colab": {
          "base_uri": "https://localhost:8080/"
        },
        "id": "ubZeFOkWUujn",
        "outputId": "1ae78b51-4dff-413e-9777-1648e2848a6d"
      },
      "execution_count": 5,
      "outputs": [
        {
          "name": "stdout",
          "output_type": "stream",
          "text": [
            "Ask a financial question (or type 'exit' to quit): What is the total revenue for Apple Inc.?\n",
            "The total revenue for Apple Inc. for the fiscal year 2022 is $394 billion, up from $365 billion in 2021\n",
            "Ask a financial question (or type 'exit' to quit): exit\n"
          ]
        }
      ]
    },
    {
      "cell_type": "markdown",
      "source": [
        "# Task: Develop a Financial Insights Chatbot\n",
        "\n",
        "**Objective**: Create a simple chatbot that responds to predefined financial queries based on the analysis of financial data from 10-K documents for Microsoft Corporation, Tesla, and Apple.\n",
        "\n",
        "## Step 1: Preparation\n",
        "\n",
        "1. **Review Analyzed Data**:\n",
        "   - Ensure you have the financial data extracted from the 10-K documents for Microsoft Corporation, Tesla, and Apple. This data should include key metrics such as total revenue, net income, earnings per share (EPS), total assets, total liabilities, and year-over-year growth.\n",
        "\n",
        "2. **Set Up Your Environment**:\n",
        "   - Open Google Colab and create a new notebook.\n",
        "   - Import the necessary libraries:\n",
        "     ```python\n",
        "     import pandas as pd\n",
        "     ```\n",
        "\n",
        "## Step 2: Chatbot Design and Data Preparation\n",
        "\n",
        "1. **Define Predefined Queries**:\n",
        "   - Identify common financial queries based on your analysis. Here are the queries we will use:\n",
        "     - **Microsoft Corporation**:\n",
        "       - \"What is the total revenue for Microsoft Corporation?\"\n",
        "       - \"How has net income changed for Microsoft Corporation over the last year?\"\n",
        "       - \"What is the earnings per share (EPS) for Microsoft Corporation?\"\n",
        "       - \"What are the total assets of Microsoft Corporation?\"\n",
        "       - \"What is the total debt of Microsoft Corporation?\"\n",
        "       - \"What is the year-over-year growth in revenue for Microsoft Corporation?\"\n",
        "\n",
        "     - **Tesla, Inc.**:\n",
        "       - \"What is the total revenue for Tesla, Inc.?\"\n",
        "       - \"How has net income changed for Tesla, Inc. over the last year?\"\n",
        "       - \"What is the earnings per share (EPS) for Tesla, Inc.?\"\n",
        "       - \"What are the total assets of Tesla, Inc.?\"\n",
        "       - \"What is the total debt of Tesla, Inc.?\"\n",
        "       - \"What is the year-over-year growth in revenue for Tesla, Inc.?\"\n",
        "\n",
        "     - **Apple Inc.**:\n",
        "       - \"What is the total revenue for Apple Inc.?\"\n",
        "       - \"How has net income changed for Apple Inc. over the last year?\"\n",
        "       - \"What is the earnings per share (EPS) for Apple Inc.?\"\n",
        "       - \"What are the total assets of Apple Inc.?\"\n",
        "       - \"What is the total debt of Apple Inc.?\"\n",
        "       - \"What is the year-over-year growth in revenue for Apple Inc.?\"\n",
        "\n",
        "2. **Prepare Responses**:\n",
        "   - Create a dictionary to map each predefined query to its corresponding response based on the analysis of the financial data:\n",
        "\n",
        "## Limitations\n",
        "- The chatbot can only respond to predefined queries.\n",
        "- It does not handle complex queries or natural language processing.\n",
        "\n",
        "## How to Use\n",
        "Run the script and ask a financial question. Type 'exit' to quit the chatbot."
      ],
      "metadata": {
        "id": "C9TbBcziVyKN"
      }
    },
    {
      "cell_type": "code",
      "source": [
        "!zip -r chatbot_prototype.zip bcg_task_two.py documentation.md\n"
      ],
      "metadata": {
        "colab": {
          "base_uri": "https://localhost:8080/"
        },
        "id": "RZho9F4kVABe",
        "outputId": "3b49fa90-a7f9-4361-ce61-a16dbc22f64a"
      },
      "execution_count": 6,
      "outputs": [
        {
          "output_type": "stream",
          "name": "stdout",
          "text": [
            "\tzip warning: name not matched: bcg_task_two.py\n",
            "\tzip warning: name not matched: documentation.md\n",
            "\n",
            "zip error: Nothing to do! (try: zip -r chatbot_prototype.zip . -i bcg_task_two.py documentation.md)\n"
          ]
        }
      ]
    },
    {
      "cell_type": "code",
      "source": [
        "!zip -r chatbot_prototype.zip . -i bcg_task_two.py documentation.md"
      ],
      "metadata": {
        "colab": {
          "base_uri": "https://localhost:8080/"
        },
        "id": "tOuBcSGHcohx",
        "outputId": "1c03e3ba-72c4-45b6-f7a9-2f8a3e21dc7a"
      },
      "execution_count": 7,
      "outputs": [
        {
          "output_type": "stream",
          "name": "stdout",
          "text": [
            "\tzip warning: zip file empty\n"
          ]
        }
      ]
    },
    {
      "cell_type": "code",
      "source": [
        "# prompt: \tzip warning: name not matched: bcg_task_two.py\n",
        "# \tzip warning: name not matched: documentation.md\n",
        "# zip error: Nothing to do! (try: zip -r chatbot_prototype.zip . -i bcg_task_two.py documentation.md)\n",
        "# [11]\n",
        "# 0s\n",
        "# !zip -r chatbot_prototype.zip . -i bcg_task_two.py documentation.md\n",
        "# \tzip warning: zip file empty\n",
        "# Resolve and debug the issue for me\n",
        "\n",
        "import os\n",
        "import zipfile\n",
        "\n",
        "def zip_files(zip_filename, files_to_zip):\n",
        "    \"\"\"Zips specified files into a zip archive.\n",
        "\n",
        "    Args:\n",
        "        zip_filename: The name of the zip archive to create.\n",
        "        files_to_zip: A list of files to include in the zip archive.\n",
        "    \"\"\"\n",
        "    try:\n",
        "        with zipfile.ZipFile(zip_filename, 'w', zipfile.ZIP_DEFLATED) as zipf:\n",
        "            for file in files_to_zip:\n",
        "                if os.path.exists(file):  # Check if the file exists\n",
        "                    zipf.write(file, os.path.basename(file))\n",
        "                else:\n",
        "                    print(f\"Warning: File not found: {file}\")\n",
        "    except Exception as e:\n",
        "        print(f\"Error creating zip file: {e}\")\n",
        "\n",
        "\n",
        "# Example usage:\n",
        "zip_files('chatbot_prototype.zip', ['bcg_task_two.py', 'documentation.md'])\n"
      ],
      "metadata": {
        "colab": {
          "base_uri": "https://localhost:8080/"
        },
        "id": "q_-cVbOqc-9E",
        "outputId": "b69f8886-0a42-4774-9cac-6d2eeade9395"
      },
      "execution_count": 8,
      "outputs": [
        {
          "output_type": "stream",
          "name": "stdout",
          "text": [
            "Warning: File not found: bcg_task_two.py\n",
            "Warning: File not found: documentation.md\n"
          ]
        }
      ]
    },
    {
      "cell_type": "code",
      "source": [
        "# Create documentation.md\n",
        "with open('documentation.md', 'w') as f:\n",
        "    f.write(\"# Task: Develop a Financial Insights Chatbot\\n\\n\")\n",
        "    f.write(\"**Objective**: Create a simple chatbot that responds to predefined financial queries based on the analysis of financial data from 10-K documents for Microsoft Corporation, Tesla, and Apple.\\n\\n\")\n",
        "    f.write(\"## Step 1: Preparation\\n\\n\")\n",
        "    f.write(\"1. **Review Analyzed Data**:\\n\")\n",
        "    f.write(\"   - Ensure you have the financial data extracted from the 10-K documents for Microsoft Corporation, Tesla, and Apple.\\n\")\n",
        "    f.write(\"2. **Set Up Your Environment**:\\n\")\n",
        "    f.write(\"   - Open Google Colab and create a new notebook.\\n\")\n",
        "    f.write(\"   - Import the necessary libraries:\\n\")\n",
        "    f.write(\"     ```python\\n\")\n",
        "    f.write(\"     import pandas as pd\\n\")\n",
        "    f.write(\"     ```\\n\\n\")\n",
        "    f.write(\"## Step 2: Chatbot Design and Data Preparation\\n\\n\")\n",
        "    f.write(\"1. **Define Predefined Queries**:\\n\")\n",
        "    f.write(\"   - Identify common financial queries based on your analysis.\\n\")\n",
        "    f.write(\"2. **Prepare Responses**:\\n\")\n",
        "    f.write(\"   - Create a dictionary to map each predefined query to its corresponding response based on the analysis of the financial data.\\n\")\n",
        "    # Add more content as needed"
      ],
      "metadata": {
        "id": "3XxWaBWcdfGX"
      },
      "execution_count": 9,
      "outputs": []
    },
    {
      "cell_type": "code",
      "source": [
        "# Create bcg_task_two.py\n",
        "with open('bcg_task_two.py', 'w') as f:\n",
        "    f.write(\"# Financial Insights Chatbot\\n\")\n",
        "    f.write(\"responses = {\\n\")\n",
        "    f.write(\"    # Microsoft Corporation\\n\")\n",
        "    f.write(\"    'What is the total revenue for Microsoft Corporation?': 'The total revenue for Microsoft Corporation for the fiscal year 2022 is $198 billion, up from $168 billion in 2021.',\\n\")\n",
        "    f.write(\"    # Add more responses as needed\\n\")\n",
        "    f.write(\"}\\n\")\n",
        "    f.write(\"\\n\")\n",
        "    f.write(\"def simple_chatbot(user_query):\\n\")\n",
        "    f.write(\"    if user_query in responses:\\n\")\n",
        "    f.write(\"        return responses[user_query]\\n\")\n",
        "    f.write(\"    else:\\n\")\n",
        "    f.write(\"        return 'Sorry, I can only provide information on predefined queries.'\\n\")"
      ],
      "metadata": {
        "id": "kIb-di2YfiFT"
      },
      "execution_count": 10,
      "outputs": []
    },
    {
      "cell_type": "code",
      "source": [
        "# Zip the files\n",
        "!zip -r chatbot_prototype.zip bcg_task_two.py documentation.md"
      ],
      "metadata": {
        "colab": {
          "base_uri": "https://localhost:8080/"
        },
        "id": "jbNqSg9If2D9",
        "outputId": "4c12b67f-7361-4c62-f3e4-4131eb63a244"
      },
      "execution_count": 11,
      "outputs": [
        {
          "output_type": "stream",
          "name": "stdout",
          "text": [
            "  adding: bcg_task_two.py (deflated 45%)\n",
            "  adding: documentation.md (deflated 50%)\n"
          ]
        }
      ]
    },
    {
      "cell_type": "code",
      "source": [
        "from google.colab import files\n",
        "files.download('chatbot_prototype.zip')"
      ],
      "metadata": {
        "colab": {
          "base_uri": "https://localhost:8080/",
          "height": 17
        },
        "id": "pa-yGHiAgFLJ",
        "outputId": "4eff0b5b-13ed-4f5e-87cc-d06a63f9933c"
      },
      "execution_count": 12,
      "outputs": [
        {
          "output_type": "display_data",
          "data": {
            "text/plain": [
              "<IPython.core.display.Javascript object>"
            ],
            "application/javascript": [
              "\n",
              "    async function download(id, filename, size) {\n",
              "      if (!google.colab.kernel.accessAllowed) {\n",
              "        return;\n",
              "      }\n",
              "      const div = document.createElement('div');\n",
              "      const label = document.createElement('label');\n",
              "      label.textContent = `Downloading \"${filename}\": `;\n",
              "      div.appendChild(label);\n",
              "      const progress = document.createElement('progress');\n",
              "      progress.max = size;\n",
              "      div.appendChild(progress);\n",
              "      document.body.appendChild(div);\n",
              "\n",
              "      const buffers = [];\n",
              "      let downloaded = 0;\n",
              "\n",
              "      const channel = await google.colab.kernel.comms.open(id);\n",
              "      // Send a message to notify the kernel that we're ready.\n",
              "      channel.send({})\n",
              "\n",
              "      for await (const message of channel.messages) {\n",
              "        // Send a message to notify the kernel that we're ready.\n",
              "        channel.send({})\n",
              "        if (message.buffers) {\n",
              "          for (const buffer of message.buffers) {\n",
              "            buffers.push(buffer);\n",
              "            downloaded += buffer.byteLength;\n",
              "            progress.value = downloaded;\n",
              "          }\n",
              "        }\n",
              "      }\n",
              "      const blob = new Blob(buffers, {type: 'application/binary'});\n",
              "      const a = document.createElement('a');\n",
              "      a.href = window.URL.createObjectURL(blob);\n",
              "      a.download = filename;\n",
              "      div.appendChild(a);\n",
              "      a.click();\n",
              "      div.remove();\n",
              "    }\n",
              "  "
            ]
          },
          "metadata": {}
        },
        {
          "output_type": "display_data",
          "data": {
            "text/plain": [
              "<IPython.core.display.Javascript object>"
            ],
            "application/javascript": [
              "download(\"download_84425e49-d401-49be-b323-e01058084a8e\", \"chatbot_prototype.zip\", 1040)"
            ]
          },
          "metadata": {}
        }
      ]
    },
    {
      "cell_type": "markdown",
      "source": [
        "## **According to Professional Example Answer from this Intermediate Internship Program, this another approach**\n",
        "\n"
      ],
      "metadata": {
        "id": "HZJre7TWBPbq"
      }
    },
    {
      "cell_type": "markdown",
      "source": [
        "# **Task Two: Financial Insights Chatbot Documentation**\n",
        "\n",
        "## **Objective**\n",
        "\n",
        "Develop a chatbot that responds to predefined queries about a company's financial performance, specifically focusing on key financial metrics and growth rates.\n",
        "\n",
        "## Chatbot Example: Financial Inquiry Bot\n",
        "\n",
        "1. #### **Rule-based Logic Implementation**\n",
        "\n",
        "The chatbot utilizes a rule-based logic approach to respond to user queries. This implementation involves mapping user queries to predefined responses based on financial data extracted from 10-K documents.\n",
        "\n",
        "**Explanation**\n",
        "\n",
        "The chatbot function uses a dictionary to map user queries to specific financial information. This demonstrates the principle of rule-based logic and includes error handling by providing a default response when the query does not match any predefined keys.\n",
        "\n",
        "2. #### **Data Structuring and Retrieval**\n",
        "\n",
        "##### **Data Structuring**\n",
        "The chatbot's responses are initially hardcoded based on the analysis summary provided. In a more advanced implementation, the chatbot could retrieve information from a structured data source, such as a CSV file or a database.\n",
        "\n",
        "**Retrieval Method**\n",
        "\n",
        "While the current example does not directly fetch data from a file, a more sophisticated version could utilize libraries like pandas to read a CSV file and query the DataFrame for specific information based on user input.\n",
        "\n",
        "3. #### **Communicating Financial Insights**\n",
        "\n",
        "**Dialogue Design**\n",
        "\n",
        "The chatbot's responses are crafted to be clear and informative, summarizing complex financial data into easy-to-understand insights. For a more interactive dialogue, the chatbot could be expanded to suggest related queries or follow-up questions for more detail.\n",
        "\n",
        "#### **Example Interaction with the Chatbot**\n",
        "\n",
        "**User Query:** \"What was the net income for Microsoft?\"\n",
        "\n",
        "**Chatbot Response:** \"The net income for Microsoft Corporation is $72 billion as of June 30, 2024.\"\n",
        "\n",
        "**User Query:** \"Tell me about revenue growth for Tesla.\"\n",
        "\n",
        "**Chatbot Response:** \"The revenue for Tesla, Inc. grew by 0% as of December 31, 2024.\"\n",
        "\n",
        "#### **Conclusion and Variation**\n",
        "\n",
        "This example illustrates the core principles of developing a financial chatbot using rule-based logic. Depending on your depth of understanding and technical skills, there are numerous ways to enhance and expand this prototype. Potential enhancements include:\n",
        "\n",
        "Integrating more complex Natural Language Processing (NLP) features for improved understanding of user queries.\n",
        "\n",
        "Connecting to real-time financial databases for dynamic data retrieval.\n",
        "Implementing machine learning models for more nuanced interaction and response generation.\n",
        "\n",
        "#### **Key Takeaway**\n",
        "The principles of chatbot development—rule-based logic, data integration, and clear communication—apply regardless of the complexity of your chatbot. This example provides a foundational framework, encouraging exploration and innovation beyond the basic implementation.\n",
        "\n"
      ],
      "metadata": {
        "id": "zTogLijNKmU1"
      }
    },
    {
      "cell_type": "code",
      "source": [
        "import pandas as pd\n",
        "\n",
        "# Create a DataFrame with the extracted data\n",
        "data = {\n",
        "    \"Company Name\": [\n",
        "        \"Microsoft Corporation\", \"Microsoft Corporation\", \"Microsoft Corporation\",\n",
        "        \"Microsoft Corporation\", \"Microsoft Corporation\",\n",
        "        \"Tesla, Inc.\", \"Tesla, Inc.\", \"Tesla, Inc.\",\n",
        "        \"Tesla, Inc.\", \"Tesla, Inc.\",\n",
        "        \"Apple Inc.\", \"Apple Inc.\", \"Apple Inc.\",\n",
        "        \"Apple Inc.\", \"Apple Inc.\"\n",
        "    ],\n",
        "    \"Financial Metric\": [\n",
        "        \"Total Revenue\", \"Net Income\", \"Total Assets\",\n",
        "        \"Total Liabilities\", \"Cash Flow from Operating Activities\",\n",
        "        \"Total Revenue\", \"Net Income\", \"Total Assets\",\n",
        "        \"Total Liabilities\", \"Cash Flow from Operating Activities\",\n",
        "        \"Total Revenue\", \"Net Income\", \"Total Assets\",\n",
        "        \"Total Liabilities\", \"Cash Flow from Operating Activities\"\n",
        "    ],\n",
        "    \"Amount (in millions)\": [\n",
        "        232000, 72000, 350000, 150000, 80000,\n",
        "        97690, 7091, 122070, 48390, 14923,\n",
        "        391035, 93736, 364980, 308030, 118254\n",
        "    ],\n",
        "    \"Date\": [\n",
        "        \"2024-06-30\", \"2024-06-30\", \"2024-06-30\",\n",
        "        \"2024-06-30\", \"2024-06-30\",\n",
        "        \"2024-12-31\", \"2024-12-31\", \"2024-12-31\",\n",
        "        \"2024-12-31\", \"2024-12-31\",\n",
        "        \"2024-09-28\", \"2024-09-28\", \"2024-09-28\",\n",
        "        \"2024-09-28\", \"2024-09-28\"\n",
        "    ]\n",
        "}\n",
        "\n",
        "# Convert the data into a DataFrame\n",
        "df = pd.DataFrame(data)\n",
        "\n",
        "# Convert the 'Date' column to datetime format\n",
        "df['Date'] = pd.to_datetime(df['Date'])\n",
        "\n",
        "# Save the DataFrame to an CSV file\n",
        "df.to_csv('financial_data.csv', index=False)\n",
        "\n",
        "# Display the DataFrame\n",
        "print(df)\n"
      ],
      "metadata": {
        "colab": {
          "base_uri": "https://localhost:8080/"
        },
        "id": "KgouKieSDNME",
        "outputId": "0e0f509a-b964-4a32-9995-1cbadefc0a90"
      },
      "execution_count": 14,
      "outputs": [
        {
          "output_type": "stream",
          "name": "stdout",
          "text": [
            "             Company Name                     Financial Metric  \\\n",
            "0   Microsoft Corporation                        Total Revenue   \n",
            "1   Microsoft Corporation                           Net Income   \n",
            "2   Microsoft Corporation                         Total Assets   \n",
            "3   Microsoft Corporation                    Total Liabilities   \n",
            "4   Microsoft Corporation  Cash Flow from Operating Activities   \n",
            "5             Tesla, Inc.                        Total Revenue   \n",
            "6             Tesla, Inc.                           Net Income   \n",
            "7             Tesla, Inc.                         Total Assets   \n",
            "8             Tesla, Inc.                    Total Liabilities   \n",
            "9             Tesla, Inc.  Cash Flow from Operating Activities   \n",
            "10             Apple Inc.                        Total Revenue   \n",
            "11             Apple Inc.                           Net Income   \n",
            "12             Apple Inc.                         Total Assets   \n",
            "13             Apple Inc.                    Total Liabilities   \n",
            "14             Apple Inc.  Cash Flow from Operating Activities   \n",
            "\n",
            "    Amount (in millions)       Date  \n",
            "0                 232000 2024-06-30  \n",
            "1                  72000 2024-06-30  \n",
            "2                 350000 2024-06-30  \n",
            "3                 150000 2024-06-30  \n",
            "4                  80000 2024-06-30  \n",
            "5                  97690 2024-12-31  \n",
            "6                   7091 2024-12-31  \n",
            "7                 122070 2024-12-31  \n",
            "8                  48390 2024-12-31  \n",
            "9                  14923 2024-12-31  \n",
            "10                391035 2024-09-28  \n",
            "11                 93736 2024-09-28  \n",
            "12                364980 2024-09-28  \n",
            "13                308030 2024-09-28  \n",
            "14                118254 2024-09-28  \n"
          ]
        }
      ]
    },
    {
      "cell_type": "code",
      "source": [
        "\n",
        "def financial_chatbot(query):\n",
        "    responses = {\n",
        "        \"net income\": \"The net income for the fiscal year 2022 was $72 billion for Microsoft Corporation, a 18% increase from 2021.\",\n",
        "        \"revenue growth\": \"The revenue for Microsoft Corporation grew by 18% from 2021 to 2022, reaching $198 billion.\"\n",
        "    }\n",
        "    return responses.get(query.lower(), \"I'm not sure how to answer that. Can you try a different question?\")\n",
        "\n",
        "import pandas as pd\n",
        "\n",
        "# Load the financial data from a CSV file\n",
        "file_path = 'financial_data.csv'  # Update this path to your actual file location\n",
        "df = pd.read_csv(file_path)\n",
        "\n",
        "def financial_chatbot(query):\n",
        "    # Normalize the query to lower case for easier matching\n",
        "    query = query.lower()\n",
        "\n",
        "    # Extract company name and financial metric from the query\n",
        "    company_name = None\n",
        "    financial_metric = None\n",
        "\n",
        "    # Check for company names in the query\n",
        "    if \"microsoft\" in query:\n",
        "        company_name = \"Microsoft Corporation\"\n",
        "    elif \"tesla\" in query:\n",
        "        company_name = \"Tesla, Inc.\"\n",
        "    elif \"apple\" in query:\n",
        "        company_name = \"Apple Inc.\"\n",
        "\n",
        "    # Check for financial metrics in the query\n",
        "    if \"total revenue\" in query:\n",
        "        financial_metric = \"Total Revenue\"\n",
        "    elif \"net income\" in query:\n",
        "        financial_metric = \"Net Income\"\n",
        "    elif \"total assets\" in query:\n",
        "        financial_metric = \"Total Assets\"\n",
        "    elif \"total liabilities\" in query:\n",
        "        financial_metric = \"Total Liabilities\"\n",
        "    elif \"cash flow\" in query:\n",
        "        financial_metric = \"Cash Flow from Operating Activities\"\n",
        "    elif \"revenue growth\" in query:\n",
        "        financial_metric = \"Revenue Growth (%)\"\n",
        "    elif \"net income growth\" in query:\n",
        "        financial_metric = \"Net Income Growth (%)\"\n",
        "\n",
        "    # If both company name and financial metric are found, retrieve the data\n",
        "    if company_name and financial_metric:\n",
        "        result = df[(df['Company Name'] == company_name) & (df['Financial Metric'] == financial_metric)]\n",
        "        if not result.empty:\n",
        "            amount = result['Amount (in millions)'].values[0]\n",
        "            return f\"The {financial_metric} for {company_name} is ${amount} million.\"\n",
        "        else:\n",
        "            return \"Sorry, I couldn't find that information.\"\n",
        "    else:\n",
        "        return \"I'm not sure how to answer that. Can you try a different question?\"\n",
        "\n",
        "# Example usage\n",
        "print(financial_chatbot(\"What is the total revenue for Microsoft?\"))\n",
        "print(financial_chatbot(\"Tell me about Tesla's net income.\"))"
      ],
      "metadata": {
        "colab": {
          "base_uri": "https://localhost:8080/"
        },
        "id": "JDAwBvFdCB3E",
        "outputId": "0f81a75b-7a79-4c4c-cb40-5b942903544f"
      },
      "execution_count": 16,
      "outputs": [
        {
          "output_type": "stream",
          "name": "stdout",
          "text": [
            "The Total Revenue for Microsoft Corporation is $232000 million.\n",
            "The Net Income for Tesla, Inc. is $7091 million.\n"
          ]
        }
      ]
    },
    {
      "cell_type": "code",
      "source": [
        "def financial_chatbot(query):\n",
        "    responses = {\n",
        "        \"microsoft total revenue\": \"The total revenue for Microsoft Corporation is $232 billion as of June 30, 2024.\",\n",
        "        \"microsoft net income\": \"The net income for Microsoft Corporation is $72 billion as of June 30, 2024.\",\n",
        "        \"microsoft total assets\": \"The total assets for Microsoft Corporation are $350 billion as of June 30, 2024.\",\n",
        "        \"microsoft total liabilities\": \"The total liabilities for Microsoft Corporation are $150 billion as of June 30, 2024.\",\n",
        "        \"microsoft cash flow from operating activities\": \"The cash flow from operating activities for Microsoft Corporation is $80 billion as of June 30, 2024.\",\n",
        "        \"microsoft revenue growth\": \"The revenue growth for Microsoft Corporation is 0% as of June 30, 2024.\",\n",
        "        \"microsoft net income growth\": \"The net income growth for Microsoft Corporation is -68.97% as of June 30, 2024.\",\n",
        "\n",
        "        \"tesla total revenue\": \"The total revenue for Tesla, Inc. is $97.69 billion as of December 31, 2024.\",\n",
        "        \"tesla net income\": \"The net income for Tesla, Inc. is $7.09 billion as of December 31, 2024.\",\n",
        "        \"tesla total assets\": \"The total assets for Tesla, Inc. are $122.07 billion as of December 31, 2024.\",\n",
        "        \"tesla total liabilities\": \"The total liabilities for Tesla, Inc. are $48.39 billion as of December 31, 2024.\",\n",
        "        \"tesla cash flow from operating activities\": \"The cash flow from operating activities for Tesla, Inc. is $14.92 billion as of December 31, 2024.\",\n",
        "        \"tesla revenue growth\": \"The revenue growth for Tesla, Inc. is 0% as of December 31, 2024.\",\n",
        "        \"tesla net income growth\": \"The net income growth for Tesla, Inc. is -92.74% as of December 31, 2024.\",\n",
        "\n",
        "        \"apple total revenue\": \"The total revenue for Apple Inc. is $391.04 billion as of September 28, 2024.\",\n",
        "        \"apple net income\": \"The net income for Apple Inc. is $93.74 billion as of September 28, 2024.\",\n",
        "        \"apple total assets\": \"The total assets for Apple Inc. are $364.98 billion as of September 28, 2024.\",\n",
        "        \"apple total liabilities\": \"The total liabilities for Apple Inc. are $308.03 billion as of September 28, 2024.\",\n",
        "        \"apple cash flow from operating activities\": \"The cash flow from operating activities for Apple Inc. is $118.25 billion as of September 28, 2024.\",\n",
        "        \"apple revenue growth\": \"The revenue growth for Apple Inc. is 0% as of September 28, 2024.\",\n",
        "        \"apple net income growth\": \"The net income growth for Apple Inc. is -76.03% as of September 28, 2024.\",\n",
        "\n",
        "        \"average revenue growth\": \"The average revenue growth for Apple Inc. is 27.23%, for Microsoft Corporation is 42.67%, and for Tesla, Inc. is 279.84%.\",\n",
        "        \"average net income growth\": \"The average net income growth for Apple Inc. is 27.23%, for Microsoft Corporation is 42.67%, and for Tesla, Inc. is 279.84%.\"\n",
        "    }\n",
        "    return responses.get(query.lower(), \"I'm not sure how to answer that. Can you try a different question?\")\n",
        "\n",
        "\n",
        "import pandas as pd\n",
        "\n",
        "# Load the financial data from a CSV file\n",
        "file_path = 'financial_data.csv'  # Update this path to your actual file location\n",
        "df = pd.read_csv(file_path)\n",
        "\n",
        "def financial_chatbot(query):\n",
        "    # Normalize the query to lower case for easier matching\n",
        "    query = query.lower()\n",
        "\n",
        "    # Extract company name and financial metric from the query\n",
        "    company_name = None\n",
        "    financial_metric = None\n",
        "\n",
        "    # Check for company names in the query\n",
        "    if \"microsoft\" in query:\n",
        "        company_name = \"Microsoft Corporation\"\n",
        "    elif \"tesla\" in query:\n",
        "        company_name = \"Tesla, Inc.\"\n",
        "    elif \"apple\" in query:\n",
        "        company_name = \"Apple Inc.\"\n",
        "\n",
        "    # Check for financial metrics in the query\n",
        "    if \"total revenue\" in query:\n",
        "        financial_metric = \"Total Revenue\"\n",
        "    elif \"net income\" in query:\n",
        "        financial_metric = \"Net Income\"\n",
        "    elif \"total assets\" in query:\n",
        "        financial_metric = \"Total Assets\"\n",
        "    elif \"total liabilities\" in query:\n",
        "        financial_metric = \"Total Liabilities\"\n",
        "    elif \"cash flow\" in query:\n",
        "        financial_metric = \"Cash Flow from Operating Activities\"\n",
        "    elif \"revenue growth\" in query:\n",
        "        financial_metric = \"Revenue Growth (%)\"\n",
        "    elif \"net income growth\" in query:\n",
        "        financial_metric = \"Net Income Growth (%)\"\n",
        "\n",
        "    # If both company name and financial metric are found, retrieve the data\n",
        "    if company_name and financial_metric:\n",
        "        result = df[(df['Company Name'] == company_name) & (df['Financial Metric'] == financial_metric)]\n",
        "        if not result.empty:\n",
        "            amount = result['Amount (in millions)'].values[0]\n",
        "            return f\"The {financial_metric} for {company_name} is ${amount} million.\"\n",
        "        else:\n",
        "            return \"Sorry, I couldn't find that information.\"\n",
        "    else:\n",
        "        return \"I'm not sure how to answer that. Can you try a different question?\"\n",
        "\n",
        "# Example usage\n",
        "print(financial_chatbot(\"What is the total revenue for Microsoft?\"))\n",
        "print(financial_chatbot(\"Tell me about Tesla's net income.\"))"
      ],
      "metadata": {
        "id": "H-cu755RgOq-",
        "colab": {
          "base_uri": "https://localhost:8080/"
        },
        "outputId": "4cf1d790-c86a-49ae-83ab-4744e310efa1"
      },
      "execution_count": 17,
      "outputs": [
        {
          "output_type": "stream",
          "name": "stdout",
          "text": [
            "The Total Revenue for Microsoft Corporation is $232000 million.\n",
            "The Net Income for Tesla, Inc. is $7091 million.\n"
          ]
        }
      ]
    },
    {
      "cell_type": "code",
      "source": [],
      "metadata": {
        "id": "N1hpXMf9EMxo"
      },
      "execution_count": null,
      "outputs": []
    }
  ]
}